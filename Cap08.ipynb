{
 "cells": [
  {
   "cell_type": "code",
   "execution_count": 1,
   "metadata": {},
   "outputs": [
    {
     "name": "stdout",
     "output_type": "stream",
     "text": [
      "Escreva o número de sua matricula190038705\n",
      "Você deverá entregar os exercícios:  [174, 175]\n"
     ]
    }
   ],
   "source": [
    "import random\n",
    "\n",
    "def escolhe(matricula):\n",
    "    random.seed(matricula)\n",
    "    cap8 = (174,175,176,177,179,181,182,185)\n",
    "    return(random.sample(cap8, k=2))\n",
    "\n",
    "print(\"Você deverá entregar os exercícios: \", escolhe(input(\"Escreva o número de sua matricula\")))\n"
   ]
  },
  {
   "cell_type": "code",
   "execution_count": 37,
   "metadata": {},
   "outputs": [
    {
     "name": "stdout",
     "output_type": "stream",
     "text": [
      "Coloque aqui dois números inteiros: 6373145 20\n"
     ]
    },
    {
     "data": {
      "text/plain": [
       "'5 é o maior divisor comum. é o maior divisor comum. é o maior divisor comum. é o maior divisor comum.'"
      ]
     },
     "execution_count": 37,
     "metadata": {},
     "output_type": "execute_result"
    }
   ],
   "source": [
    "#exercicio 174\n",
    "\n",
    "a,b = input('Coloque aqui dois números inteiros: ').split()\n",
    "a,b = int(a),int(b)\n",
    "\n",
    "def mdc(a, b):\n",
    "    if a == 0 : \n",
    "        return f'{b} é o maior divisor comum.'  \n",
    "    else:\n",
    "        return f'{mdc(b%a, a)} é o maior divisor comum.'\n",
    "\n",
    "mdc(a,b)"
   ]
  },
  {
   "cell_type": "code",
   "execution_count": 46,
   "metadata": {},
   "outputs": [
    {
     "name": "stdout",
     "output_type": "stream",
     "text": [
      "Coloque um inteiro maior ou igual a zero: 54\n",
      "O número 0 em decimal é  110110 em binário.\n"
     ]
    }
   ],
   "source": [
    "#exercicio 82\n",
    "\n",
    "base = 2\n",
    "x = int(input('Coloque um inteiro maior ou igual a zero: '))\n",
    "\n",
    "resultado = ''\n",
    "\n",
    "while x > 0:\n",
    "    r = x % base\n",
    "    resultado = str(r) + resultado\n",
    "    x = x//base\n",
    "\n",
    "print(f'O número {x} em decimal é  {resultado} em binário.')"
   ]
  },
  {
   "cell_type": "code",
   "execution_count": 84,
   "metadata": {
    "scrolled": true
   },
   "outputs": [
    {
     "name": "stdout",
     "output_type": "stream",
     "text": [
      "Coloque um inteiro maior ou igual a zero: 65416931\n"
     ]
    },
    {
     "data": {
      "text/plain": [
       "11111001100010111011100011"
      ]
     },
     "execution_count": 84,
     "metadata": {},
     "output_type": "execute_result"
    }
   ],
   "source": [
    "#exercicio 175\n",
    "\n",
    "numero = int(input('Coloque um inteiro maior ou igual a zero: '))\n",
    "\n",
    "def binario(numero):\n",
    "    if numero == 0:\n",
    "        return 0\n",
    "    else:\n",
    "        numero_binario = (numero % 2 + 10 *binario(int(numero // 2)))\n",
    "        return numero_binario\n",
    "    \n",
    "binario(numero)"
   ]
  }
 ],
 "metadata": {
  "kernelspec": {
   "display_name": "Python 3",
   "language": "python",
   "name": "python3"
  },
  "language_info": {
   "codemirror_mode": {
    "name": "ipython",
    "version": 3
   },
   "file_extension": ".py",
   "mimetype": "text/x-python",
   "name": "python",
   "nbconvert_exporter": "python",
   "pygments_lexer": "ipython3",
   "version": "3.7.6"
  }
 },
 "nbformat": 4,
 "nbformat_minor": 4
}
